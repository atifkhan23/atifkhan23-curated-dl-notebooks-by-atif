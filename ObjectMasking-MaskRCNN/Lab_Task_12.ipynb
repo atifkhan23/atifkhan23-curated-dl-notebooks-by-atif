{
  "nbformat": 4,
  "nbformat_minor": 0,
  "metadata": {
    "colab": {
      "provenance": [],
      "gpuType": "T4"
    },
    "kernelspec": {
      "name": "python3",
      "display_name": "Python 3"
    },
    "language_info": {
      "name": "python"
    },
    "accelerator": "GPU"
  },
  "cells": [
    {
      "cell_type": "markdown",
      "source": [
        "# Instance Segmentation"
      ],
      "metadata": {
        "id": "Zrj9lmqzcThC"
      }
    },
    {
      "cell_type": "markdown",
      "source": [
        "* Instance segmentation is a computer vision task that combines object detection (identifying objects in an image) with semantic segmentation (classifying each pixel into a category).\n",
        "\n",
        "* ✅ Semantic Segmentation answers: \"What is in each pixel?\"\n",
        "\n",
        "  ✅ Instance Segmentation answers: \"Which specific object instance is in each pixel?\"\n",
        "\n",
        "* Example:\n",
        "\n",
        "    In a street image, if there are 3 cars:\n",
        "\n",
        "    * Semantic segmentation labels all pixels of all cars the same (\"car\").\n",
        "\n",
        "    * Instance segmentation labels Car 1, Car 2, Car 3 separately, giving each one a unique mask.\n"
      ],
      "metadata": {
        "id": "WpAgd-dmcabR"
      }
    },
    {
      "cell_type": "markdown",
      "source": [
        "# Implementation"
      ],
      "metadata": {
        "id": "h4_OeNvEgGwY"
      }
    },
    {
      "cell_type": "code",
      "source": [
        "!pip install numpy opencv-python tensorflow keras matplotlib pycocotools"
      ],
      "metadata": {
        "id": "DZA6bCx7xLz8"
      },
      "execution_count": null,
      "outputs": []
    },
    {
      "cell_type": "code",
      "source": [
        "!pip install git+https://github.com/matterport/Mask_RCNN.git"
      ],
      "metadata": {
        "id": "NTf3s5682ILc"
      },
      "execution_count": null,
      "outputs": []
    },
    {
      "cell_type": "code",
      "source": [
        "import os\n",
        "import numpy as np\n",
        "import cv2\n",
        "import matplotlib.pyplot as plt\n",
        "from mrcnn import utils\n",
        "from mrcnn.config import Config\n",
        "from pycocotools.coco import COCO"
      ],
      "metadata": {
        "id": "c9PD8B5LzZY_"
      },
      "execution_count": null,
      "outputs": []
    },
    {
      "cell_type": "code",
      "source": [
        "# 1. Configuration\n",
        "# ============================================\n",
        "class CocoConfig(Config):\n",
        "    NAME = \"coco\"\n",
        "    GPU_COUNT = 1\n",
        "    IMAGES_PER_GPU = 1\n",
        "    NUM_CLASSES = 81  # COCO has 80 classes + 1 background\n",
        "\n",
        "# Initialize config\n",
        "config = CocoConfig()\n",
        "config.display()"
      ],
      "metadata": {
        "id": "Vz8uL1vIzgYW"
      },
      "execution_count": null,
      "outputs": []
    },
    {
      "cell_type": "code",
      "source": [
        "# 2. Load COCO Dataset (Error-Handled)\n",
        "# ============================================\n",
        "import os\n",
        "from pycocotools.coco import COCO\n",
        "\n",
        "def load_coco_dataset(data_dir, subset):\n",
        "    \"\"\"Load COCO dataset with better error messages.\"\"\"\n",
        "    try:\n",
        "        # Normalize paths to handle different OS formats\n",
        "        data_dir = os.path.normpath(data_dir)\n",
        "\n",
        "        # Paths to annotations and images\n",
        "        ann_file = os.path.join(data_dir, \"annotations\", f\"instances_{subset}.json\")\n",
        "        image_dir = os.path.join(data_dir, subset)\n",
        "\n",
        "        # More detailed error checking\n",
        "        if not os.path.exists(ann_file):\n",
        "            available_files = os.listdir(os.path.join(data_dir, \"annotations\"))\n",
        "            raise FileNotFoundError(\n",
        "                f\"Annotation file not found at {ann_file}\\n\"\n",
        "                f\"Available files: {available_files}\"\n",
        "            )\n",
        "\n",
        "        if not os.path.exists(image_dir):\n",
        "            available_dirs = [d for d in os.listdir(data_dir) if os.path.isdir(os.path.join(data_dir, d))]\n",
        "            raise FileNotFoundError(\n",
        "                f\"Image directory not found at {image_dir}\\n\"\n",
        "                f\"Available directories: {available_dirs}\"\n",
        "            )\n",
        "\n",
        "        # Initialize COCO API\n",
        "        coco = COCO(ann_file)\n",
        "        image_ids = coco.getImgIds()\n",
        "        print(f\"Successfully loaded {len(image_ids)} images from {subset}\")\n",
        "        return coco, image_ids, image_dir\n",
        "\n",
        "    except Exception as e:\n",
        "        print(f\"Error loading COCO dataset: {str(e)}\")\n",
        "        return None, None, None\n",
        "\n",
        "# Example usage\n",
        "COCO_DIR = \"coco\"  # Path to your coco directory\n",
        "SUBSET = \"val2017\"\n",
        "\n",
        "coco, image_ids, image_dir = load_coco_dataset(COCO_DIR, SUBSET)\n",
        "if coco is None:\n",
        "    print(\"Please check the dataset installation\")\n",
        "    print(\"Expected directory structure:\")\n",
        "    print(\"coco/\")\n",
        "    print(\"├── annotations/\")\n",
        "    print(\"│   └── instances_val2017.json\")\n",
        "    print(\"└── val2017/\")\n",
        "    print(\"    └── ...jpg files...\")"
      ],
      "metadata": {
        "id": "6_AN4XLE5B2s"
      },
      "execution_count": null,
      "outputs": []
    },
    {
      "cell_type": "code",
      "source": [
        "!wget https://github.com/matterport/Mask_RCNN/releases/download/v2.0/mask_rcnn_coco.h5"
      ],
      "metadata": {
        "id": "94x2uldOEYhS"
      },
      "execution_count": null,
      "outputs": []
    },
    {
      "cell_type": "code",
      "source": [
        "# 3. Load Model (Error-Handled)\n",
        "import os\n",
        "import requests\n",
        "import warnings\n",
        "from tqdm import tqdm\n",
        "\n",
        "def download_model_weights(model_path):\n",
        "    \"\"\"Download Mask R-CNN weights if not found.\"\"\"\n",
        "    url = \"https://github.com/matterport/Mask_RCNN/releases/download/v2.0/mask_rcnn_coco.h5\"\n",
        "\n",
        "    try:\n",
        "        print(f\"Downloading model weights from {url}...\")\n",
        "        response = requests.get(url, stream=True)\n",
        "        response.raise_for_status()\n",
        "\n",
        "        # Show progress bar\n",
        "        total_size = int(response.headers.get('content-length', 0))\n",
        "        block_size = 1024\n",
        "        progress_bar = tqdm(total=total_size, unit='iB', unit_scale=True)\n",
        "\n",
        "        with open(model_path, 'wb') as f:\n",
        "            for data in response.iter_content(block_size):\n",
        "                progress_bar.update(len(data))\n",
        "                f.write(data)\n",
        "        progress_bar.close()\n",
        "\n",
        "        if total_size != 0 and progress_bar.n != total_size:\n",
        "            warnings.warn(\"Download might be incomplete\")\n",
        "\n",
        "        print(f\"Model weights saved to {model_path}\")\n",
        "        return True\n",
        "    except Exception as e:\n",
        "        print(f\"Failed to download weights: {e}\")\n",
        "        return False\n",
        "\n",
        "def load_model(model_path):\n",
        "    \"\"\"Load Mask R-CNN model with auto-download.\"\"\"\n",
        "    try:\n",
        "        if not os.path.exists(model_path):\n",
        "            print(f\"Weights not found at {model_path}\")\n",
        "            if not download_model_weights(model_path):\n",
        "                return None\n",
        "\n",
        "        # Suppress TensorFlow logging\n",
        "        os.environ['TF_CPP_MIN_LOG_LEVEL'] = '2'\n",
        "\n",
        "        model = modellib.MaskRCNN(\n",
        "            mode=\"inference\",\n",
        "            config=config,\n",
        "            model_dir=os.getcwd()\n",
        "        )\n",
        "\n",
        "        # Verify weights file integrity\n",
        "        file_size = os.path.getsize(model_path)\n",
        "        if file_size < 200000000:  # ~200MB expected\n",
        "            warnings.warn(f\"Model weights file seems too small ({file_size} bytes)\")\n",
        "\n",
        "        model.load_weights(model_path, by_name=True)\n",
        "        print(\"Model loaded successfully\")\n",
        "        return model\n",
        "\n",
        "    except Exception as e:\n",
        "        print(f\"Error loading model: {e}\")\n",
        "        return None\n",
        "\n",
        "MODEL_PATH = \"mask_rcnn_coco.h5\"\n",
        "model = load_model(MODEL_PATH)\n",
        "if model is None:\n",
        "    print(\"Failed to load model. Possible solutions:\")\n",
        "    print(\"1. Download weights manually from:\")\n",
        "    print(\"   https://github.com/matterport/Mask_RCNN/releases\")\n",
        "    print(\"2. Place the file in your working directory\")\n",
        "    exit()\n",
        "\n"
      ],
      "metadata": {
        "id": "ZJ-stmdT5K80"
      },
      "execution_count": null,
      "outputs": []
    },
    {
      "cell_type": "code",
      "source": [
        "# 4. Run Inference on Dataset (Robust)\n",
        "# ============================================\n",
        "def run_inference(coco, image_ids, image_dir, model, num_samples=5):\n",
        "    \"\"\"Run instance segmentation on dataset samples.\"\"\"\n",
        "    for i in range(min(num_samples, len(image_ids))):\n",
        "        try:\n",
        "            # Load image\n",
        "            image_info = coco.loadImgs(image_ids[i])[0]\n",
        "            image_path = os.path.join(image_dir, image_info['file_name'])\n",
        "            image = cv2.imread(image_path)\n",
        "            image = cv2.cvtColor(image, cv2.COLOR_BGR2RGB)\n",
        "\n",
        "            if image is None:\n",
        "                print(f\"Could not read image {image_path}\")\n",
        "                continue\n",
        "\n",
        "            # Run detection\n",
        "            results = model.detect([image], verbose=0)[0]\n",
        "\n",
        "            # Visualize results\n",
        "            visualize(image, results, coco)\n",
        "\n",
        "        except Exception as e:\n",
        "            print(f\"Error processing image {image_ids[i]}: {e}\")\n",
        "            continue\n",
        "\n",
        "def visualize(image, results, coco):\n",
        "    \"\"\"Visualize instance segmentation results.\"\"\"\n",
        "    plt.figure(figsize=(12, 8))\n",
        "\n",
        "    # Show masks\n",
        "    masked_image = apply_masks(image, results['masks'], results['class_ids'])\n",
        "\n",
        "    # Show bounding boxes and labels\n",
        "    for i, (y1, x1, y2, x2) in enumerate(results['rois']):\n",
        "        class_id = results['class_ids'][i]\n",
        "        class_name = coco.loadCats(class_id)[0]['name']\n",
        "        score = results['scores'][i]\n",
        "\n",
        "        # Draw bounding box\n",
        "        cv2.rectangle(masked_image, (x1, y1), (x2, y2), (0, 255, 0), 2)\n",
        "\n",
        "        # Label with class and score\n",
        "        label = f\"{class_name} {score:.2f}\"\n",
        "        cv2.putText(\n",
        "            masked_image, label, (x1, y1 - 5),\n",
        "            cv2.FONT_HERSHEY_SIMPLEX, 0.5, (255, 255, 255), 2\n",
        "        )\n",
        "\n",
        "    plt.imshow(masked_image)\n",
        "    plt.axis(\"off\")\n",
        "    plt.show()\n",
        "\n",
        "def apply_masks(image, masks, class_ids):\n",
        "    \"\"\"Apply color masks to image.\"\"\"\n",
        "    colors = plt.cm.get_cmap('hsv', len(class_ids))\n",
        "    masked_image = image.copy()\n",
        "\n",
        "    for i in range(masks.shape[-1]):\n",
        "        mask = masks[:, :, i]\n",
        "        color = np.array(colors(i))[:3] * 255  # RGB only\n",
        "\n",
        "        # Apply mask with transparency\n",
        "        for c in range(3):\n",
        "            masked_image[:, :, c] = np.where(\n",
        "                mask == 1,\n",
        "                masked_image[:, :, c] * 0.7 + 0.3 * color[c],\n",
        "                masked_image[:, :, c]\n",
        "            )\n",
        "\n",
        "    return masked_image"
      ],
      "metadata": {
        "id": "DxKzKzt35rda"
      },
      "execution_count": null,
      "outputs": []
    },
    {
      "cell_type": "code",
      "source": [
        "# Run on 5 random samples\n",
        "run_inference(coco, image_ids, image_dir, model, num_samples=5)"
      ],
      "metadata": {
        "id": "jPnXvDxbjPrt"
      },
      "execution_count": null,
      "outputs": []
    },
    {
      "cell_type": "markdown",
      "source": [
        "# Lab Task"
      ],
      "metadata": {
        "id": "M-cqdExmngsL"
      }
    },
    {
      "cell_type": "markdown",
      "source": [
        "* Load any dataset of your own choice.\n",
        "\n",
        "* Apply any other architecture on that dataset.\n",
        "\n",
        "* Train & Evaluate the model.\n",
        "\n",
        "* Display Segmented Images."
      ],
      "metadata": {
        "id": "ZYzUoVHDnlFw"
      }
    },
    {
      "cell_type": "code",
      "source": [],
      "metadata": {
        "id": "qZgNR5U8nj5P"
      },
      "execution_count": null,
      "outputs": []
    }
  ]
}